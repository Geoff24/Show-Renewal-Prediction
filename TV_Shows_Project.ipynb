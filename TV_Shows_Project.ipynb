{
  "nbformat": 4,
  "nbformat_minor": 0,
  "metadata": {
    "colab": {
      "name": "TV Shows Project.ipynb",
      "provenance": [],
      "collapsed_sections": [],
      "authorship_tag": "ABX9TyM+DkNA9jmxZ5H6myHA5GCF",
      "include_colab_link": true
    },
    "kernelspec": {
      "name": "python3",
      "display_name": "Python 3"
    },
    "language_info": {
      "name": "python"
    }
  },
  "cells": [
    {
      "cell_type": "markdown",
      "metadata": {
        "id": "view-in-github",
        "colab_type": "text"
      },
      "source": [
        "<a href=\"https://colab.research.google.com/github/Geoff24/Show-Renewal-Prediction/blob/main/TV_Shows_Project.ipynb\" target=\"_parent\"><img src=\"https://colab.research.google.com/assets/colab-badge.svg\" alt=\"Open In Colab\"/></a>"
      ]
    },
    {
      "cell_type": "code",
      "metadata": {
        "id": "_0NHLOQGy4tp"
      },
      "source": [
        "import pandas as pd\n",
        "from sklearn import datasets\n",
        "from sklearn.model_selection import train_test_split\n",
        "from sklearn.tree import DecisionTreeClassifier\n",
        "import seaborn as sns"
      ],
      "execution_count": null,
      "outputs": []
    },
    {
      "cell_type": "code",
      "metadata": {
        "colab": {
          "base_uri": "https://localhost:8080/",
          "height": 419
        },
        "id": "5P-70uCs8OYJ",
        "outputId": "2b97de52-353c-45e3-e458-87d35089beff"
      },
      "source": [
        "# netflix_tv = pd.read_csv(\"https://raw.githubusercontent.com/Geoff24/Show-Renewal-Prediction/main/netflix_titles.csv\").drop([\"director\", \"cast\", \"country\", \"date_added\", \"release_year\", \"rating\", \"listed_in\", \"show_id\", \"description\"], axis = 1)\n",
        "# netflix_tv = netflix_tv[netflix_tv.type == \"TV Show\"].drop([\"type\"], axis = 1)\n",
        "# netflix_tv"
      ],
      "execution_count": null,
      "outputs": [
        {
          "output_type": "execute_result",
          "data": {
            "text/html": [
              "<div>\n",
              "<style scoped>\n",
              "    .dataframe tbody tr th:only-of-type {\n",
              "        vertical-align: middle;\n",
              "    }\n",
              "\n",
              "    .dataframe tbody tr th {\n",
              "        vertical-align: top;\n",
              "    }\n",
              "\n",
              "    .dataframe thead th {\n",
              "        text-align: right;\n",
              "    }\n",
              "</style>\n",
              "<table border=\"1\" class=\"dataframe\">\n",
              "  <thead>\n",
              "    <tr style=\"text-align: right;\">\n",
              "      <th></th>\n",
              "      <th>title</th>\n",
              "      <th>duration</th>\n",
              "    </tr>\n",
              "  </thead>\n",
              "  <tbody>\n",
              "    <tr>\n",
              "      <th>1</th>\n",
              "      <td>Blood &amp; Water</td>\n",
              "      <td>2 Seasons</td>\n",
              "    </tr>\n",
              "    <tr>\n",
              "      <th>2</th>\n",
              "      <td>Ganglands</td>\n",
              "      <td>1 Season</td>\n",
              "    </tr>\n",
              "    <tr>\n",
              "      <th>3</th>\n",
              "      <td>Jailbirds New Orleans</td>\n",
              "      <td>1 Season</td>\n",
              "    </tr>\n",
              "    <tr>\n",
              "      <th>4</th>\n",
              "      <td>Kota Factory</td>\n",
              "      <td>2 Seasons</td>\n",
              "    </tr>\n",
              "    <tr>\n",
              "      <th>5</th>\n",
              "      <td>Midnight Mass</td>\n",
              "      <td>1 Season</td>\n",
              "    </tr>\n",
              "    <tr>\n",
              "      <th>...</th>\n",
              "      <td>...</td>\n",
              "      <td>...</td>\n",
              "    </tr>\n",
              "    <tr>\n",
              "      <th>8795</th>\n",
              "      <td>Yu-Gi-Oh! Arc-V</td>\n",
              "      <td>2 Seasons</td>\n",
              "    </tr>\n",
              "    <tr>\n",
              "      <th>8796</th>\n",
              "      <td>Yunus Emre</td>\n",
              "      <td>2 Seasons</td>\n",
              "    </tr>\n",
              "    <tr>\n",
              "      <th>8797</th>\n",
              "      <td>Zak Storm</td>\n",
              "      <td>3 Seasons</td>\n",
              "    </tr>\n",
              "    <tr>\n",
              "      <th>8800</th>\n",
              "      <td>Zindagi Gulzar Hai</td>\n",
              "      <td>1 Season</td>\n",
              "    </tr>\n",
              "    <tr>\n",
              "      <th>8803</th>\n",
              "      <td>Zombie Dumb</td>\n",
              "      <td>2 Seasons</td>\n",
              "    </tr>\n",
              "  </tbody>\n",
              "</table>\n",
              "<p>2676 rows × 2 columns</p>\n",
              "</div>"
            ],
            "text/plain": [
              "                      title   duration\n",
              "1             Blood & Water  2 Seasons\n",
              "2                 Ganglands   1 Season\n",
              "3     Jailbirds New Orleans   1 Season\n",
              "4              Kota Factory  2 Seasons\n",
              "5             Midnight Mass   1 Season\n",
              "...                     ...        ...\n",
              "8795        Yu-Gi-Oh! Arc-V  2 Seasons\n",
              "8796             Yunus Emre  2 Seasons\n",
              "8797              Zak Storm  3 Seasons\n",
              "8800     Zindagi Gulzar Hai   1 Season\n",
              "8803            Zombie Dumb  2 Seasons\n",
              "\n",
              "[2676 rows x 2 columns]"
            ]
          },
          "metadata": {},
          "execution_count": 180
        }
      ]
    },
    {
      "cell_type": "code",
      "metadata": {
        "colab": {
          "base_uri": "https://localhost:8080/",
          "height": 419
        },
        "id": "dwG6gUhJ9Edn",
        "outputId": "1558561e-6957-497f-e766-2051d08df332"
      },
      "source": [
        "# tv_shows = pd.read_csv(\"https://raw.githubusercontent.com/Geoff24/Show-Renewal-Prediction/main/tv_shows.csv\").drop([\"Unnamed: 0\", \"ID\", \"Year\", \"Age\", \"Hulu\", \"Prime Video\", \"Disney+\", \"Type\"], axis = 1)\n",
        "# tv_shows = tv_shows[tv_shows.Netflix == 1].drop([\"Netflix\"], axis = 1).rename({\"Title\": \"title\"}, axis =1)\n",
        "# tv_shows"
      ],
      "execution_count": null,
      "outputs": [
        {
          "output_type": "execute_result",
          "data": {
            "text/html": [
              "<div>\n",
              "<style scoped>\n",
              "    .dataframe tbody tr th:only-of-type {\n",
              "        vertical-align: middle;\n",
              "    }\n",
              "\n",
              "    .dataframe tbody tr th {\n",
              "        vertical-align: top;\n",
              "    }\n",
              "\n",
              "    .dataframe thead th {\n",
              "        text-align: right;\n",
              "    }\n",
              "</style>\n",
              "<table border=\"1\" class=\"dataframe\">\n",
              "  <thead>\n",
              "    <tr style=\"text-align: right;\">\n",
              "      <th></th>\n",
              "      <th>title</th>\n",
              "      <th>IMDb</th>\n",
              "      <th>Rotten Tomatoes</th>\n",
              "    </tr>\n",
              "  </thead>\n",
              "  <tbody>\n",
              "    <tr>\n",
              "      <th>0</th>\n",
              "      <td>Breaking Bad</td>\n",
              "      <td>9.4/10</td>\n",
              "      <td>100/100</td>\n",
              "    </tr>\n",
              "    <tr>\n",
              "      <th>1</th>\n",
              "      <td>Stranger Things</td>\n",
              "      <td>8.7/10</td>\n",
              "      <td>96/100</td>\n",
              "    </tr>\n",
              "    <tr>\n",
              "      <th>2</th>\n",
              "      <td>Attack on Titan</td>\n",
              "      <td>9.0/10</td>\n",
              "      <td>95/100</td>\n",
              "    </tr>\n",
              "    <tr>\n",
              "      <th>3</th>\n",
              "      <td>Better Call Saul</td>\n",
              "      <td>8.8/10</td>\n",
              "      <td>94/100</td>\n",
              "    </tr>\n",
              "    <tr>\n",
              "      <th>4</th>\n",
              "      <td>Dark</td>\n",
              "      <td>8.8/10</td>\n",
              "      <td>93/100</td>\n",
              "    </tr>\n",
              "    <tr>\n",
              "      <th>...</th>\n",
              "      <td>...</td>\n",
              "      <td>...</td>\n",
              "      <td>...</td>\n",
              "    </tr>\n",
              "    <tr>\n",
              "      <th>4701</th>\n",
              "      <td>Human Nature</td>\n",
              "      <td>NaN</td>\n",
              "      <td>13/100</td>\n",
              "    </tr>\n",
              "    <tr>\n",
              "      <th>5064</th>\n",
              "      <td>The Bad Batch</td>\n",
              "      <td>8.2/10</td>\n",
              "      <td>82/100</td>\n",
              "    </tr>\n",
              "    <tr>\n",
              "      <th>5097</th>\n",
              "      <td>The Muppets</td>\n",
              "      <td>7.4/10</td>\n",
              "      <td>64/100</td>\n",
              "    </tr>\n",
              "    <tr>\n",
              "      <th>5231</th>\n",
              "      <td>Pick of the Litter</td>\n",
              "      <td>8.1/10</td>\n",
              "      <td>47/100</td>\n",
              "    </tr>\n",
              "    <tr>\n",
              "      <th>5303</th>\n",
              "      <td>Becoming</td>\n",
              "      <td>6.8/10</td>\n",
              "      <td>38/100</td>\n",
              "    </tr>\n",
              "  </tbody>\n",
              "</table>\n",
              "<p>1971 rows × 3 columns</p>\n",
              "</div>"
            ],
            "text/plain": [
              "                   title    IMDb Rotten Tomatoes\n",
              "0           Breaking Bad  9.4/10         100/100\n",
              "1        Stranger Things  8.7/10          96/100\n",
              "2        Attack on Titan  9.0/10          95/100\n",
              "3       Better Call Saul  8.8/10          94/100\n",
              "4                   Dark  8.8/10          93/100\n",
              "...                  ...     ...             ...\n",
              "4701        Human Nature     NaN          13/100\n",
              "5064       The Bad Batch  8.2/10          82/100\n",
              "5097         The Muppets  7.4/10          64/100\n",
              "5231  Pick of the Litter  8.1/10          47/100\n",
              "5303            Becoming  6.8/10          38/100\n",
              "\n",
              "[1971 rows x 3 columns]"
            ]
          },
          "metadata": {},
          "execution_count": 181
        }
      ]
    },
    {
      "cell_type": "code",
      "metadata": {
        "id": "p0iSrdXDAzeQ"
      },
      "source": [
        "# netflix_tv_shows = pd.merge(netflix_tv, tv_shows, on = \"title\").dropna()\n",
        "\n",
        "# netflix_tv_shows[\"IMDb\"] = netflix_tv_shows[\"IMDb\"].str.replace(\"/10\", \"\").astype(\"float\")\n",
        "# netflix_tv_shows[\"Rotten Tomatoes\"] = netflix_tv_shows[\"Rotten Tomatoes\"].str.replace(\"/100\", \"\").astype(\"int\")\n",
        "# netflix_tv_shows[\"duration\"] = netflix_tv_shows[\"duration\"].str.replace(\" Season\", \"\").str.replace(\"s\", \"\").astype(\"int\")\n",
        "\n",
        "# netflix_tv_shows[\"Multiple Seasons\"] = (netflix_tv_shows.duration>1).astype(\"int\")"
      ],
      "execution_count": null,
      "outputs": []
    },
    {
      "cell_type": "code",
      "metadata": {
        "id": "TUH5NuSp8woI"
      },
      "source": [
        "netflix_tv_shows = pd.read_csv(\"https://raw.githubusercontent.com/Geoff24/Show-Renewal-Prediction/main/Sample_Netflix_Data.csv\")\n",
        "netflix_tv_shows"
      ],
      "execution_count": null,
      "outputs": []
    },
    {
      "cell_type": "code",
      "metadata": {
        "id": "-KC96FxcCgVp"
      },
      "source": [
        "x = netflix_tv_shows[[\"Rotten Tomatoes\", \"IMDb\"]]\n",
        "y = netflix_tv_shows['Multiple Seasons']\n",
        "\n",
        "x_train, x_test, y_train, y_test = train_test_split(x, y, test_size=0.10, random_state=2)"
      ],
      "execution_count": null,
      "outputs": []
    },
    {
      "cell_type": "code",
      "metadata": {
        "colab": {
          "base_uri": "https://localhost:8080/",
          "height": 391
        },
        "id": "8ktTTGOv5h6Q",
        "outputId": "a639e8c5-104f-4047-f191-a82a7ff01012"
      },
      "source": [
        "sns.pairplot(netflix_tv_shows.drop([\"duration\"], axis = 1), hue = \"Multiple Seasons\")"
      ],
      "execution_count": null,
      "outputs": [
        {
          "output_type": "execute_result",
          "data": {
            "text/plain": [
              "<seaborn.axisgrid.PairGrid at 0x7f6c0125ff90>"
            ]
          },
          "metadata": {},
          "execution_count": 185
        },
        {
          "output_type": "display_data",
          "data": {
            "image/png": "[encoded data removed]",
            "text/plain": [
              "<Figure size 452.375x360 with 6 Axes>"
            ]
          },
          "metadata": {
            "needs_background": "light"
          }
        }
      ]
    },
    {
      "cell_type": "code",
      "metadata": {
        "id": "OW1Ra3_xJCze",
        "colab": {
          "base_uri": "https://localhost:8080/",
          "height": 328
        },
        "outputId": "76bde7a6-6594-48a9-831c-068ceb1abec7"
      },
      "source": [
        "tree = DecisionTreeClassifier()\n",
        "\n",
        "params = {\n",
        "    \"min_samples_leaf\" : [1, 5, 10],\n",
        "    \"max_depth\" : [1, 2, 5] \n",
        "}\n",
        "\n",
        "gridSearch = GridSearchCV(tree, params)\n",
        "gridSearch.fit(x_train, y_train)\n",
        "\n",
        "a = pd.concat([pd.DataFrame(gridSearch.cv_results_[\"params\"]), pd.DataFrame(gridSearch.cv_results_[\"mean_test_score\"], columns=[\"Accuracy\"])],axis=1)\n",
        "a"
      ],
      "execution_count": null,
      "outputs": [
        {
          "output_type": "execute_result",
          "data": {
            "text/html": [
              "<div>\n",
              "<style scoped>\n",
              "    .dataframe tbody tr th:only-of-type {\n",
              "        vertical-align: middle;\n",
              "    }\n",
              "\n",
              "    .dataframe tbody tr th {\n",
              "        vertical-align: top;\n",
              "    }\n",
              "\n",
              "    .dataframe thead th {\n",
              "        text-align: right;\n",
              "    }\n",
              "</style>\n",
              "<table border=\"1\" class=\"dataframe\">\n",
              "  <thead>\n",
              "    <tr style=\"text-align: right;\">\n",
              "      <th></th>\n",
              "      <th>max_depth</th>\n",
              "      <th>min_samples_leaf</th>\n",
              "      <th>Accuracy</th>\n",
              "    </tr>\n",
              "  </thead>\n",
              "  <tbody>\n",
              "    <tr>\n",
              "      <th>0</th>\n",
              "      <td>1</td>\n",
              "      <td>1</td>\n",
              "      <td>0.691589</td>\n",
              "    </tr>\n",
              "    <tr>\n",
              "      <th>1</th>\n",
              "      <td>1</td>\n",
              "      <td>5</td>\n",
              "      <td>0.691589</td>\n",
              "    </tr>\n",
              "    <tr>\n",
              "      <th>2</th>\n",
              "      <td>1</td>\n",
              "      <td>10</td>\n",
              "      <td>0.691589</td>\n",
              "    </tr>\n",
              "    <tr>\n",
              "      <th>3</th>\n",
              "      <td>2</td>\n",
              "      <td>1</td>\n",
              "      <td>0.691589</td>\n",
              "    </tr>\n",
              "    <tr>\n",
              "      <th>4</th>\n",
              "      <td>2</td>\n",
              "      <td>5</td>\n",
              "      <td>0.691589</td>\n",
              "    </tr>\n",
              "    <tr>\n",
              "      <th>5</th>\n",
              "      <td>2</td>\n",
              "      <td>10</td>\n",
              "      <td>0.691589</td>\n",
              "    </tr>\n",
              "    <tr>\n",
              "      <th>6</th>\n",
              "      <td>5</td>\n",
              "      <td>1</td>\n",
              "      <td>0.680180</td>\n",
              "    </tr>\n",
              "    <tr>\n",
              "      <th>7</th>\n",
              "      <td>5</td>\n",
              "      <td>5</td>\n",
              "      <td>0.665216</td>\n",
              "    </tr>\n",
              "    <tr>\n",
              "      <th>8</th>\n",
              "      <td>5</td>\n",
              "      <td>10</td>\n",
              "      <td>0.670219</td>\n",
              "    </tr>\n",
              "  </tbody>\n",
              "</table>\n",
              "</div>"
            ],
            "text/plain": [
              "   max_depth  min_samples_leaf  Accuracy\n",
              "0          1                 1  0.691589\n",
              "1          1                 5  0.691589\n",
              "2          1                10  0.691589\n",
              "3          2                 1  0.691589\n",
              "4          2                 5  0.691589\n",
              "5          2                10  0.691589\n",
              "6          5                 1  0.680180\n",
              "7          5                 5  0.665216\n",
              "8          5                10  0.670219"
            ]
          },
          "metadata": {},
          "execution_count": 186
        }
      ]
    },
    {
      "cell_type": "code",
      "metadata": {
        "colab": {
          "base_uri": "https://localhost:8080/",
          "height": 235
        },
        "id": "KzrFT1WKJ1bJ",
        "outputId": "44d40b26-5690-4de2-cf21-9663308d9a04"
      },
      "source": [
        "from sklearn.neighbors import KNeighborsClassifier\n",
        "\n",
        "knn = KNeighborsClassifier()\n",
        "params = {\n",
        "    # \"n_neighbors\" : [1, 50, 100],\n",
        "    \"n_neighbors\" : [1, 50],\n",
        "    \"weights\" : [\"uniform\", \"distance\"]\n",
        "}\n",
        "\n",
        "\n",
        "gridSearch = GridSearchCV(knn, params)\n",
        "gridSearch.fit(x_train, y_train)\n",
        "\n",
        "a = pd.concat([pd.DataFrame(gridSearch.cv_results_[\"params\"]), pd.DataFrame(gridSearch.cv_results_[\"mean_test_score\"], columns=[\"Accuracy\"])],axis=1)\n",
        "a"
      ],
      "execution_count": null,
      "outputs": [
        {
          "output_type": "execute_result",
          "data": {
            "text/html": [
              "<div>\n",
              "<style scoped>\n",
              "    .dataframe tbody tr th:only-of-type {\n",
              "        vertical-align: middle;\n",
              "    }\n",
              "\n",
              "    .dataframe tbody tr th {\n",
              "        vertical-align: top;\n",
              "    }\n",
              "\n",
              "    .dataframe thead th {\n",
              "        text-align: right;\n",
              "    }\n",
              "</style>\n",
              "<table border=\"1\" class=\"dataframe\">\n",
              "  <thead>\n",
              "    <tr style=\"text-align: right;\">\n",
              "      <th></th>\n",
              "      <th>n_neighbors</th>\n",
              "      <th>weights</th>\n",
              "      <th>Accuracy</th>\n",
              "    </tr>\n",
              "  </thead>\n",
              "  <tbody>\n",
              "    <tr>\n",
              "      <th>0</th>\n",
              "      <td>1</td>\n",
              "      <td>uniform</td>\n",
              "      <td>0.574065</td>\n",
              "    </tr>\n",
              "    <tr>\n",
              "      <th>1</th>\n",
              "      <td>1</td>\n",
              "      <td>distance</td>\n",
              "      <td>0.574065</td>\n",
              "    </tr>\n",
              "    <tr>\n",
              "      <th>2</th>\n",
              "      <td>50</td>\n",
              "      <td>uniform</td>\n",
              "      <td>0.684448</td>\n",
              "    </tr>\n",
              "    <tr>\n",
              "      <th>3</th>\n",
              "      <td>50</td>\n",
              "      <td>distance</td>\n",
              "      <td>0.641029</td>\n",
              "    </tr>\n",
              "    <tr>\n",
              "      <th>4</th>\n",
              "      <td>100</td>\n",
              "      <td>uniform</td>\n",
              "      <td>0.690165</td>\n",
              "    </tr>\n",
              "    <tr>\n",
              "      <th>5</th>\n",
              "      <td>100</td>\n",
              "      <td>distance</td>\n",
              "      <td>0.641739</td>\n",
              "    </tr>\n",
              "  </tbody>\n",
              "</table>\n",
              "</div>"
            ],
            "text/plain": [
              "   n_neighbors   weights  Accuracy\n",
              "0            1   uniform  0.574065\n",
              "1            1  distance  0.574065\n",
              "2           50   uniform  0.684448\n",
              "3           50  distance  0.641029\n",
              "4          100   uniform  0.690165\n",
              "5          100  distance  0.641739"
            ]
          },
          "metadata": {},
          "execution_count": 187
        }
      ]
    },
    {
      "cell_type": "code",
      "metadata": {
        "id": "Jf32MwCbMRoq",
        "colab": {
          "base_uri": "https://localhost:8080/",
          "height": 328
        },
        "outputId": "e3ac0bcb-6cea-4d48-ba6e-7523f5d74070"
      },
      "source": [
        "from sklearn.svm import SVC\n",
        "\n",
        "svc = SVC()\n",
        "params = {\n",
        "    \"kernel\" : [\"linear\", \"poly\", \"rbf\"],\n",
        "    \"C\" : [.1, 1, 5]\n",
        "}\n",
        "\n",
        "gridSearch = GridSearchCV(svc, params)\n",
        "gridSearch.fit(x_train, y_train)\n",
        "\n",
        "a = pd.concat([pd.DataFrame(gridSearch.cv_results_[\"params\"]), pd.DataFrame(gridSearch.cv_results_[\"mean_test_score\"], columns=[\"Accuracy\"])],axis=1)\n",
        "a"
      ],
      "execution_count": null,
      "outputs": [
        {
          "output_type": "execute_result",
          "data": {
            "text/html": [
              "<div>\n",
              "<style scoped>\n",
              "    .dataframe tbody tr th:only-of-type {\n",
              "        vertical-align: middle;\n",
              "    }\n",
              "\n",
              "    .dataframe tbody tr th {\n",
              "        vertical-align: top;\n",
              "    }\n",
              "\n",
              "    .dataframe thead th {\n",
              "        text-align: right;\n",
              "    }\n",
              "</style>\n",
              "<table border=\"1\" class=\"dataframe\">\n",
              "  <thead>\n",
              "    <tr style=\"text-align: right;\">\n",
              "      <th></th>\n",
              "      <th>C</th>\n",
              "      <th>kernel</th>\n",
              "      <th>Accuracy</th>\n",
              "    </tr>\n",
              "  </thead>\n",
              "  <tbody>\n",
              "    <tr>\n",
              "      <th>0</th>\n",
              "      <td>0.1</td>\n",
              "      <td>linear</td>\n",
              "      <td>0.688027</td>\n",
              "    </tr>\n",
              "    <tr>\n",
              "      <th>1</th>\n",
              "      <td>0.1</td>\n",
              "      <td>poly</td>\n",
              "      <td>0.690877</td>\n",
              "    </tr>\n",
              "    <tr>\n",
              "      <th>2</th>\n",
              "      <td>0.1</td>\n",
              "      <td>rbf</td>\n",
              "      <td>0.688742</td>\n",
              "    </tr>\n",
              "    <tr>\n",
              "      <th>3</th>\n",
              "      <td>1.0</td>\n",
              "      <td>linear</td>\n",
              "      <td>0.688739</td>\n",
              "    </tr>\n",
              "    <tr>\n",
              "      <th>4</th>\n",
              "      <td>1.0</td>\n",
              "      <td>poly</td>\n",
              "      <td>0.690877</td>\n",
              "    </tr>\n",
              "    <tr>\n",
              "      <th>5</th>\n",
              "      <td>1.0</td>\n",
              "      <td>rbf</td>\n",
              "      <td>0.688744</td>\n",
              "    </tr>\n",
              "    <tr>\n",
              "      <th>6</th>\n",
              "      <td>5.0</td>\n",
              "      <td>linear</td>\n",
              "      <td>0.687316</td>\n",
              "    </tr>\n",
              "    <tr>\n",
              "      <th>7</th>\n",
              "      <td>5.0</td>\n",
              "      <td>poly</td>\n",
              "      <td>0.688744</td>\n",
              "    </tr>\n",
              "    <tr>\n",
              "      <th>8</th>\n",
              "      <td>5.0</td>\n",
              "      <td>rbf</td>\n",
              "      <td>0.689453</td>\n",
              "    </tr>\n",
              "  </tbody>\n",
              "</table>\n",
              "</div>"
            ],
            "text/plain": [
              "     C  kernel  Accuracy\n",
              "0  0.1  linear  0.688027\n",
              "1  0.1    poly  0.690877\n",
              "2  0.1     rbf  0.688742\n",
              "3  1.0  linear  0.688739\n",
              "4  1.0    poly  0.690877\n",
              "5  1.0     rbf  0.688744\n",
              "6  5.0  linear  0.687316\n",
              "7  5.0    poly  0.688744\n",
              "8  5.0     rbf  0.689453"
            ]
          },
          "metadata": {},
          "execution_count": 188
        }
      ]
    }
  ]
}